{
 "cells": [
  {
   "cell_type": "code",
   "execution_count": 12,
   "metadata": {},
   "outputs": [
    {
     "data": {
      "text/plain": [
       "['Interesting facts about the Moon',\n",
       " \" The Moon is Earth's only satellite\",\n",
       " ' There are several interesting facts about the Moon and how it affects life here on Earth',\n",
       " ' \" , \"On average, the Moon moves 4cm away from the Earth every year',\n",
       " ' This yearly drift is not significant enough to cause immediate effects on Earth',\n",
       " ' The highest daylight temperature of the Moon is 127 C',\n",
       " '']"
      ]
     },
     "execution_count": 12,
     "metadata": {},
     "output_type": "execute_result"
    }
   ],
   "source": [
    "text = \"\"\"Interesting facts about the Moon. The Moon is Earth's only satellite. There are several interesting facts about the Moon and how it affects life here on Earth. \" , \"On average, the Moon moves 4cm away from the Earth every year. This yearly drift is not significant enough to cause immediate effects on Earth. The highest daylight temperature of the Moon is 127 C.\"\"\"\n",
    "tpart = text .split('.')\n",
    "tpart\n"
   ]
  },
  {
   "cell_type": "code",
   "execution_count": 13,
   "metadata": {},
   "outputs": [
    {
     "name": "stdout",
     "output_type": "stream",
     "text": [
      " The Moon is Earth's only satellite\n",
      " There are several interesting facts about the Moon and how it affects life here on Earth\n",
      " This yearly drift is not significant enough to cause immediate effects on Earth\n",
      " The highest daylight temperature of the Moon is 127 C\n"
     ]
    }
   ],
   "source": [
    "pClave = [\"average\", \"temperature\" , \"distance\"]\n",
    "\n",
    "for sentence in tpart:\n",
    "    for pClave in pClave:\n",
    "        if pClave in sentence:\n",
    "            print(sentence)\n",
    "            break"
   ]
  },
  {
   "cell_type": "code",
   "execution_count": 14,
   "metadata": {},
   "outputs": [
    {
     "name": "stdout",
     "output_type": "stream",
     "text": [
      "Interesting facts about the Moon\n",
      " The Moon is Earth's only satellite\n",
      " There are several interesting facts about the Moon and how it affects life here on Earth\n",
      " This yearly drift is not significant enough to cause immediate effects on Earth\n",
      " The highest daylight temperature of the Moon is 127 Celsius\n"
     ]
    }
   ],
   "source": [
    "for sentence in tpart:\n",
    "    for pClave in pClave:\n",
    "        if pClave in sentence:\n",
    "            print(sentence.replace(' C', ' Celsius'))\n",
    "            break"
   ]
  },
  {
   "cell_type": "code",
   "execution_count": 21,
   "metadata": {},
   "outputs": [
    {
     "name": "stdout",
     "output_type": "stream",
     "text": [
      "-------------------------------------------------------------------------------- \n",
      "Nombre del planeta: Earth \n",
      "Gravedad en Moon: 1.6199999999999999 m/s2 \n",
      "\n",
      "-------------------------------------------------------------------------------- \n",
      "Nombre del planeta: Earth \n",
      "Gravedad en Moon: 1.6199999999999999 m/s2 \n",
      "\n",
      "\n",
      "Datos de Gravedad sobre: Ganímedes\n",
      "-------------------------------------------------------------------------------\n",
      "Nombre del planeta: Marte \n",
      "Gravedad en Ganímedes: 0.00143 m/s2\n",
      "\n",
      "\n",
      "Datos de Gravedad sobre: Ganímedes\n",
      "-------------------------------------------------------------------------------\n",
      "Nombre del planeta: Marte \n",
      "Gravedad en Ganímedes: 1.4300000000000002 m/s2\n",
      "\n"
     ]
    }
   ],
   "source": [
    "planeta = 'Earth'\n",
    "gravedad  = 0.00162\n",
    "nombre = 'Moon'\n",
    "title = f'datos de gravedad sobre {nombre}'\n",
    "hechos = f\"\"\"{'-'*80} \n",
    "Nombre del planeta: {planeta} \n",
    "Gravedad en {nombre}: {gravedad * 1000} m/s2 \n",
    "\"\"\"\n",
    "template = f\"\"\"{title.title()} \n",
    "{hechos} \n",
    "\"\"\" \n",
    "print(hechos)\n",
    "\n",
    "planeta = 'Marte '\n",
    "gravedad  = 0.00143\n",
    "nombre = 'Ganímedes'\n",
    "\n",
    "print(hechos)\n",
    "\n",
    "nemplate = \"\"\"\n",
    "Datos de Gravedad sobre: {nombre}\n",
    "-------------------------------------------------------------------------------\n",
    "Nombre del planeta: {planeta}\n",
    "Gravedad en {nombre}: {gravedad} m/s2\n",
    "\"\"\"\n",
    "print(nemplate.format(nombre=nombre, planeta=planeta, gravedad=gravedad))\n",
    "\n",
    "print(nemplate.format(nombre=nombre, planeta=planeta, gravedad=gravedad*1000))"
   ]
  }
 ],
 "metadata": {
  "interpreter": {
   "hash": "9efce205f64ad363cd9f14615485aca38ee4ef0915866e318aa83c8d0c93f6fc"
  },
  "kernelspec": {
   "display_name": "Python 3.10.2 64-bit",
   "language": "python",
   "name": "python3"
  },
  "language_info": {
   "codemirror_mode": {
    "name": "ipython",
    "version": 3
   },
   "file_extension": ".py",
   "mimetype": "text/x-python",
   "name": "python",
   "nbconvert_exporter": "python",
   "pygments_lexer": "ipython3",
   "version": "3.10.2"
  },
  "orig_nbformat": 4
 },
 "nbformat": 4,
 "nbformat_minor": 2
}
