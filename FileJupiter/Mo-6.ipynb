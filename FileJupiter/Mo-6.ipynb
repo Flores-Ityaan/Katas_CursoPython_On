{
 "cells": [
  {
   "cell_type": "code",
   "execution_count": 12,
   "metadata": {},
   "outputs": [
    {
     "name": "stdout",
     "output_type": "stream",
     "text": [
      "8\n",
      "Pluton es el ultimo planeta\n",
      "Planetas mas cercanos al sol que Tierra\n",
      "['Mercurio', 'Venus']\n",
      "Plnetas mas lejanos al sol que Tierra\n",
      "['Marte', 'Jupiter', 'Saturno', 'Urano', 'Neptuno', 'Pluton']\n"
     ]
    }
   ],
   "source": [
    "planets = ['Mercurio', 'Venus', 'Tierra', 'Marte', 'Jupiter', 'Saturno', 'Urano', 'Neptuno']\n",
    "\n",
    "Num_Planets = len(planets)\n",
    "print(Num_Planets)\n",
    "\n",
    "planets.append('Pluton')\n",
    "\n",
    "print (planets[-1],'es el ultimo planeta')\n",
    "\n",
    "Ingresar_Plan = input('Ingresa el nombre de cualquier planeta \"Primera letra en mayusculas\"')\n",
    "Buscar = planets.index(Ingresar_Plan)\n",
    "\n",
    "print('Planetas mas cercanos al sol que ' + Ingresar_Plan)\n",
    "print(planets[0:Buscar])\n",
    "\n",
    "print('Plnetas mas lejanos al sol que ' + Ingresar_Plan)\n",
    "print(planets[Buscar +1: ])\n",
    "\n"
   ]
  }
 ],
 "metadata": {
  "interpreter": {
   "hash": "9efce205f64ad363cd9f14615485aca38ee4ef0915866e318aa83c8d0c93f6fc"
  },
  "kernelspec": {
   "display_name": "Python 3.10.2 64-bit",
   "language": "python",
   "name": "python3"
  },
  "language_info": {
   "codemirror_mode": {
    "name": "ipython",
    "version": 3
   },
   "file_extension": ".py",
   "mimetype": "text/x-python",
   "name": "python",
   "nbconvert_exporter": "python",
   "pygments_lexer": "ipython3",
   "version": "3.10.2"
  },
  "orig_nbformat": 4
 },
 "nbformat": 4,
 "nbformat_minor": 2
}
