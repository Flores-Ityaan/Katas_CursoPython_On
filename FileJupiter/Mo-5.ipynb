{
 "cells": [
  {
   "cell_type": "code",
   "execution_count": 7,
   "metadata": {},
   "outputs": [
    {
     "name": "stdout",
     "output_type": "stream",
     "text": [
      "628949330\n",
      "390577534\n"
     ]
    }
   ],
   "source": [
    "Tierra = 149597870 #km\n",
    "Jupiter = 778547200 #km\n",
    "\n",
    "Distancia = (Tierra - Jupiter)\n",
    "print(abs(Distancia))\n",
    "\n",
    "#Km a Millas\n",
    "MDistancia = (Distancia * 0.621)\n",
    "print(abs(round(MDistancia)))\n",
    "\n",
    "\n"
   ]
  },
  {
   "cell_type": "code",
   "execution_count": 3,
   "metadata": {},
   "outputs": [
    {
     "name": "stdout",
     "output_type": "stream",
     "text": [
      "4267200000\n",
      "2649931200.0\n"
     ]
    }
   ],
   "source": [
    "Pla_uno = input (\"Ingresa la distancia del planeta 1\")\n",
    "Pla_dos = input (\"Ingresa la distancia del planeta 2\")\n",
    "\n",
    "Pla_uno = int(Pla_uno)\n",
    "Pla_dos = int(Pla_dos) \n",
    "\n",
    "D = (Pla_dos - Pla_uno)\n",
    "print(abs(D))\n",
    "\n",
    "# Mercurio  57900000\n",
    "# Venus    \t108200000\n",
    "# Tierra\t149600000\n",
    "# Marte\t    227900000\n",
    "# Júpiter\t778600000\n",
    "# Saturno\t1433500000\n",
    "# Urano\t    2872500000\n",
    "# Neptuno\t4495100000\n",
    "\n",
    "MillaD = (D * 0.621) \n",
    "print(abs(MillaD))\n"
   ]
  }
 ],
 "metadata": {
  "interpreter": {
   "hash": "9efce205f64ad363cd9f14615485aca38ee4ef0915866e318aa83c8d0c93f6fc"
  },
  "kernelspec": {
   "display_name": "Python 3.10.2 64-bit",
   "language": "python",
   "name": "python3"
  },
  "language_info": {
   "codemirror_mode": {
    "name": "ipython",
    "version": 3
   },
   "file_extension": ".py",
   "mimetype": "text/x-python",
   "name": "python",
   "nbconvert_exporter": "python",
   "pygments_lexer": "ipython3",
   "version": "3.10.2"
  },
  "orig_nbformat": 4
 },
 "nbformat": 4,
 "nbformat_minor": 2
}
