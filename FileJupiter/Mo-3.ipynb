{
 "cells": [
  {
   "cell_type": "code",
   "execution_count": 6,
   "metadata": {},
   "outputs": [
    {
     "name": "stdout",
     "output_type": "stream",
     "text": [
      "¡Alerta!\n",
      "Asteroide en aproximacion a velocidad considerable\n"
     ]
    }
   ],
   "source": [
    "asteroide = 49\n",
    "if asteroide > 25:\n",
    "    print('¡Alerta!')\n",
    "    print('Asteroide en aproximacion a velocidad considerable')\n",
    "else:\n",
    "    print('¡No hay peligro!')"
   ]
  },
  {
   "cell_type": "code",
   "execution_count": 12,
   "metadata": {},
   "outputs": [
    {
     "name": "stdout",
     "output_type": "stream",
     "text": [
      "¡No hay ningun rayo de luz!\n"
     ]
    }
   ],
   "source": [
    "asteroide = 19\n",
    "if asteroide > 20:\n",
    "    print('Rayo de luz visible \\n Observa el cielo para encontrar')\n",
    "elif asteroide == 20:\n",
    "    print('Rayo de luz visible \\n Observa el cielo para encontrar')\n",
    "else:\n",
    "    print('¡No hay ningun rayo de luz!')"
   ]
  },
  {
   "cell_type": "code",
   "execution_count": 19,
   "metadata": {},
   "outputs": [
    {
     "name": "stdout",
     "output_type": "stream",
     "text": [
      "No hay ningun rayo de luz:)\n"
     ]
    }
   ],
   "source": [
    "velocidad_asteroide = 17\n",
    "tamano_asteroide = 19\n",
    "if velocidad_asteroide > 25 and tamano_asteroide > 25:\n",
    "    print('¡Alerta')\n",
    "    print('Asteroide en aproximacion a velocidad considerable')\n",
    "elif velocidad_asteroide >= 20:\n",
    "    print('Rayo de luz visible \\nObserva el cielo para encontrar')\n",
    "elif tamano_asteroide < 25:\n",
    "    print('No hay ningun rayo de luz')\n",
    "else:\n",
    "    print('No hay ningun rayo de luz')"
   ]
  }
 ],
 "metadata": {
  "interpreter": {
   "hash": "9efce205f64ad363cd9f14615485aca38ee4ef0915866e318aa83c8d0c93f6fc"
  },
  "kernelspec": {
   "display_name": "Python 3.10.2 64-bit",
   "language": "python",
   "name": "python3"
  },
  "language_info": {
   "codemirror_mode": {
    "name": "ipython",
    "version": 3
   },
   "file_extension": ".py",
   "mimetype": "text/x-python",
   "name": "python",
   "nbconvert_exporter": "python",
   "pygments_lexer": "ipython3",
   "version": "3.10.2"
  },
  "orig_nbformat": 4
 },
 "nbformat": 4,
 "nbformat_minor": 2
}
